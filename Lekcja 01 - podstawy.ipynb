{
  "cells": [
    {
      "cell_type": "markdown",
      "id": "_BtRa9qZv51L",
      "metadata": {
        "id": "_BtRa9qZv51L"
      },
      "source": [
        "# Początek"
      ]
    },
    {
      "cell_type": "markdown",
      "id": "e24aa7c6",
      "metadata": {
        "id": "e24aa7c6"
      },
      "source": [
        "\n",
        "\n",
        "## Programowanie:\n",
        "\n",
        "**Programowanie** to proces, w którym tworzy się **programy komputerowe**, czyli coś, co mówi komputerowi, co on ma robić. Np. uruchomić komputer, sprawdzić cały jego sprzęt, odpalić nasz ulubiony film, grę, sprawdzić, czy czasem inny program nie chce nam zrobić czegoś złego (czytaj: antywirus szukający wirusów).\n",
        "\n",
        "Aby robić to skutecznie, komputer musi mieć ten program zapisany w specjalnym kodzie, tzw. **kod maszynowy**, który dla komputera jest zrozumiały. Ale dla człowieka - niekoniecznie. Stąd potrzebny nam kompromis. Coś, co dla człowieka będzie intuicyjne i będzie można to łatwo przetłumaczyć na kod maszynowy - **język programowania**.\n",
        "\n",
        "Języków programowania mamy mnóstwo: Java, C++ C#, Python, Lua, Perl, Assembler, etc... Każdy jest inny, każdy powstawał z inną filozofią, w innych celach, czasem specjalistycznych, np. SQL - bazy danych. \n",
        "\n",
        "## Python:\n",
        "\n",
        "Python to język programowania, którego główną cechą jest prostota i przejrzystość kodu.\n",
        "W porównaniu do innych języków składnia jest bardzo czytelna i jest w nim znacznie mniej znaków interpunkcyjnych tj. kropki, przecinki, etc...\n",
        "Też w porównaniu do innych języków wiele wyrafinowanych rzeczy będzie zaimplementowane w bardzo prosty sposób i nie będzie wymagał pisania dużej ilości kodu."
      ]
    },
    {
      "cell_type": "markdown",
      "id": "8f90887e",
      "metadata": {
        "id": "8f90887e"
      },
      "source": [
        "# Jak pisać w Pythonie?"
      ]
    },
    {
      "cell_type": "markdown",
      "id": "FkWdUSo1vjFE",
      "metadata": {
        "id": "FkWdUSo1vjFE"
      },
      "source": [
        "## Polecenie **print()**\n",
        "\n",
        "Zacznijmy od prostego programu, którego zadaniem jest wypisać na ekranie (dokładniej w konsoli) prosty tekst. Żeby to zrobić, potrzebne nam będzie polecenie **print(tekst_do_wyświetlenia)**. To polecenie wyświetla w konsoli tekst lub wyrażenie, które jest zapisane w nawiasie. \n",
        "\n",
        "**WAŻNE: tekst powinien byćz zapisany w cudzysłowie!**\n",
        "\n",
        "\n",
        "Zwróć uwagę, że każdy znak ma tutaj znaczenie. Nawet kolor, w jakim wyświetla się tekst ma znaczenie - edytor kodu ma za zadanie tak podświetlać kod, żeby łatwiej nam było rozeznać się w tym, jak wygląda - łatwiej wychwycić błędy :)\n",
        "\n",
        "\n",
        "Możesz usunąć jeden cudzysłów lub nawias z takiego kodu i zobaczyć, co się stanie z kolorystyką tekstu."
      ]
    },
    {
      "cell_type": "code",
      "execution_count": 1,
      "id": "928ad8c3",
      "metadata": {
        "id": "928ad8c3",
        "outputId": "e3fe8e4f-207e-41e1-9da7-60b4c38c5f23"
      },
      "outputs": [
        {
          "name": "stdout",
          "output_type": "stream",
          "text": [
            "Hello World :)\n"
          ]
        }
      ],
      "source": [
        "# Tekst napisany po znaku \"#\" nie jest rozpatrywany jako kod - można tu pisać tzw. komentarze.\n",
        "# Polecenie print wyświetla na ekrenaie tekst, który wpiszesz wewnątrz nawiasów.\n",
        "print(\"Hello World :)\")\n",
        "\n",
        "\n",
        "# Zauważ, że tekst napisaliśmy w cudzysłowie."
      ]
    },
    {
      "cell_type": "code",
      "execution_count": 1,
      "id": "lC6Y-cenXBP2",
      "metadata": {
        "colab": {
          "base_uri": "https://localhost:8080/",
          "height": 130
        },
        "id": "lC6Y-cenXBP2",
        "outputId": "759d900d-45ab-4d1a-dd41-e67fece32fcf"
      },
      "outputs": [
        {
          "ename": "SyntaxError",
          "evalue": "ignored",
          "output_type": "error",
          "traceback": [
            "\u001b[0;36m  File \u001b[0;32m\"<ipython-input-1-8ffcdc7fc757>\"\u001b[0;36m, line \u001b[0;32m2\u001b[0m\n\u001b[0;31m    print(Hello World :))\u001b[0m\n\u001b[0m                    ^\u001b[0m\n\u001b[0;31mSyntaxError\u001b[0m\u001b[0;31m:\u001b[0m invalid syntax\n"
          ]
        }
      ],
      "source": [
        "# Jeśli napiszesz tekst bez cudzysłowia, print() nie zadziała poprawnie i przez to program zwróci błąd.\n",
        "print(Hello World :))"
      ]
    },
    {
      "cell_type": "code",
      "execution_count": 2,
      "id": "5814da59",
      "metadata": {
        "colab": {
          "base_uri": "https://localhost:8080/"
        },
        "id": "5814da59",
        "outputId": "e2ded4bc-02cd-43d9-f0bb-1010133ef209"
      },
      "outputs": [
        {
          "name": "stdout",
          "output_type": "stream",
          "text": [
            "Polecenia w pythonie...\n",
            "...oddzielamy znakiem nowej linii...\n",
            "...potocznie zwanym Enter\n"
          ]
        }
      ],
      "source": [
        "# Aby napisać kilka instrukcji jedna po drugiej, wystarczy kolejne instrukcje pisać w nowej linii.\n",
        "\n",
        "print(\"Polecenia w pythonie...\")\n",
        "print(\"...oddzielamy znakiem nowej linii...\")\n",
        "print(\"...potocznie zwanym Enter\")"
      ]
    },
    {
      "cell_type": "code",
      "execution_count": 3,
      "id": "LC5PnHgDXgXO",
      "metadata": {
        "colab": {
          "base_uri": "https://localhost:8080/"
        },
        "id": "LC5PnHgDXgXO",
        "outputId": "cf2fcb5c-2b0d-4002-b278-9b1ff99e3c38"
      },
      "outputs": [
        {
          "name": "stdout",
          "output_type": "stream",
          "text": [
            "2 + 2\n",
            "4\n"
          ]
        }
      ],
      "source": [
        "# Tekst w cudzysłowie to dla programu jasna informacja, że to jest tekst. A nie jakieś wyrażenie.\n",
        "print(\"2 + 2\")\n",
        "print(2 + 2)"
      ]
    },
    {
      "cell_type": "markdown",
      "id": "d6d954cd",
      "metadata": {
        "id": "d6d954cd"
      },
      "source": [
        "## Zmienne:\n",
        "Żeby można było zrobić coś ciekawszego w kodzie, przyda się mechanizm tzw. zmiennej. \n",
        "\n",
        "\n",
        "Zmienna ma za zadanie przechowywać pojedynczą informację w programie. W grach komputerowych to może być licznik punktów życia, punkty albo informacja o aktualnie wybranej broni.\n",
        "\n",
        "\n",
        "Jak robi się zmienne? Wystarczy: nazwa zmiennej, znak \"=\" oraz wartość.\\\n",
        "Python domyśli się, jaki to typ zmiennej po sposobie jej zapisu, np. łatwo się domyśli, że zmienna  wartości **\"jakiś tekst\"** oznacza tekst.\n",
        "\n",
        "\n",
        "UWAGA!!! Pod żadnym pozorem nie używaj w nazwach zmiennych znaków tj. \"-\", \"=\", \"+\", \"*\" oraz nie zaczynaj nazwy od cyfry. To są znaki specjalne i Python zgłupieje, jak będzie musiał to przetworzyć.\n"
      ]
    },
    {
      "cell_type": "code",
      "execution_count": 4,
      "id": "d3241857",
      "metadata": {
        "id": "d3241857"
      },
      "outputs": [],
      "source": [
        "nazwa_zmiennej = 13\n",
        "liczba = 12\n",
        "tekst = \"jakiś tekst\""
      ]
    },
    {
      "cell_type": "markdown",
      "id": "17e8e91c",
      "metadata": {
        "id": "17e8e91c"
      },
      "source": [
        "### Wykorzystajmy jakoś nasze zmienne. Zobacz jeszcze raz, jaką rolę odgrywają cudzysłowia:"
      ]
    },
    {
      "cell_type": "code",
      "execution_count": 5,
      "id": "464248ed",
      "metadata": {
        "colab": {
          "base_uri": "https://localhost:8080/"
        },
        "id": "464248ed",
        "outputId": "eb0ed524-3835-4e6d-c9d2-5b29bd751980"
      },
      "outputs": [
        {
          "name": "stdout",
          "output_type": "stream",
          "text": [
            "Arek\n",
            "imie\n"
          ]
        }
      ],
      "source": [
        "imie = \"Arek\"\n",
        "\n",
        "print(imie)\n",
        "print(\"imie\")"
      ]
    },
    {
      "cell_type": "markdown",
      "id": "8a751035",
      "metadata": {
        "id": "8a751035"
      },
      "source": [
        "### Można też wykorzystać polecenie print tak, żeby w jednej linijce napisać kilka różnych napisów jeden po drugim oddzielone przecinkami:"
      ]
    },
    {
      "cell_type": "code",
      "execution_count": null,
      "id": "0d5dde3a",
      "metadata": {
        "id": "0d5dde3a",
        "outputId": "9a7366ef-3802-4b72-aa9d-f2b9e73f9d49"
      },
      "outputs": [
        {
          "name": "stdout",
          "output_type": "stream",
          "text": [
            "napis1 napis2 napis3\n",
            "Cześć, Czesław\n"
          ]
        }
      ],
      "source": [
        "print(\"napis1\", \"napis2\", \"napis3\")\n",
        "imie = \"Czesław\"\n",
        "print(\"Cześć,\", imie)"
      ]
    },
    {
      "cell_type": "markdown",
      "id": "63147ff6",
      "metadata": {
        "id": "63147ff6"
      },
      "source": [
        "### Spróbujmy zrobić z tego prostą historyjkę, w której w zwykły tekst wplatamy wartości zmiennych:"
      ]
    },
    {
      "cell_type": "code",
      "execution_count": 6,
      "id": "ffb592d0",
      "metadata": {
        "colab": {
          "base_uri": "https://localhost:8080/"
        },
        "id": "ffb592d0",
        "outputId": "92419043-f6e9-4679-efe2-a0ab87cb1342"
      },
      "outputs": [
        {
          "name": "stdout",
          "output_type": "stream",
          "text": [
            "Witajcie, cudzoziemcy, jam jest Barbara z klanu Berserkerzy , pochodzę z krainy zwanej Transylwania .\n"
          ]
        }
      ],
      "source": [
        "imie = \"Barbara\"\n",
        "klan = \"Berserkerzy\"\n",
        "kraina = \"Transylwania\"\n",
        "\n",
        "# Użycie przecinka wewnątrz nawiasów funkcji print() pozwala nam na wypisanie kilku napisów naraz jeden obok drugiego.\n",
        "print(\"Witajcie, cudzoziemcy, jam jest\", imie, \"z klanu\", klan,\", pochodzę z krainy zwanej\", kraina, \".\")"
      ]
    },
    {
      "cell_type": "markdown",
      "id": "cbb63b07",
      "metadata": {
        "id": "cbb63b07"
      },
      "source": [
        "Ale po co sobie komplikować życie jakimiś zmiennymi?! Przecież mogliśmy to zrobić równie dobrze jednym napisem, a my tu sobie niepotrzebnie dodajemy linijek...\n",
        "\n",
        "### To teraz na poważnie:\n",
        "Ten sposób nadawania zmiennym jakiejś wartości przez napisanie wprost, co jest w danej zmiennej to tylko przykład. W praktyce możemy wykorzystać np. jakiś inny program albo odczyt z innego urządzenia, żeby przypisać mu jakąś wartość, np. wynik ankiety internetowej, kod odczytany ze specjalnego czytnika...\n",
        "\n",
        "My skorzystamy z kolejnego polecenia, czyli:"
      ]
    },
    {
      "cell_type": "markdown",
      "id": "_vSVor8wvqQk",
      "metadata": {
        "id": "_vSVor8wvqQk"
      },
      "source": [
        "## **input()**\n",
        "Polecenie to wyświetla pole tekstowe, czeka aż użytkownik w nie coś wpisze i wciśnie Enter."
      ]
    },
    {
      "cell_type": "code",
      "execution_count": null,
      "id": "d660d3bc",
      "metadata": {
        "id": "d660d3bc",
        "outputId": "0ff0a51f-f988-4996-ae81-ba1540623835",
        "scrolled": true
      },
      "outputs": [
        {
          "name": "stdout",
          "output_type": "stream",
          "text": [
            "xd\n"
          ]
        },
        {
          "data": {
            "text/plain": [
              "'xd'"
            ]
          },
          "execution_count": 7,
          "metadata": {},
          "output_type": "execute_result"
        }
      ],
      "source": [
        "input()"
      ]
    },
    {
      "cell_type": "markdown",
      "id": "b4ef6dd6",
      "metadata": {
        "id": "b4ef6dd6"
      },
      "source": [
        "### UWAGA!!!! \n",
        "Jeśli pracujesz na Jupyter Notebooku:\n",
        "1. Jeśli odpalasz polecenie \"input()\", napisz coś w nim i wciśnij enter. Kolejne uruchomienie może skończyć się błędami (program się zwiesi).\n",
        "2. Jeśli program Ci się zwiesił, znajdź na górnej części strony polecenia: Kernel --> Restart --> Restart. Powinno pomóc."
      ]
    },
    {
      "attachments": {},
      "cell_type": "markdown",
      "id": "a13922be",
      "metadata": {
        "id": "a13922be"
      },
      "source": [
        "Samo polecenie input() może być co najwyżej ozdobą. \\\n",
        "Można też wykorzystać to polecenie jako przerywnik w kodzie (to polecenie czeka aż użytkownik wciśnie ENTER).\n",
        "\n",
        "\n",
        "Ale PRZEDE WSZYSTKIM: możemy zrobić tak, żeby tekst wpisany przez polecenie input() został wpisany jako wartość zmiennej:"
      ]
    },
    {
      "cell_type": "code",
      "execution_count": null,
      "id": "78a23619",
      "metadata": {
        "id": "78a23619",
        "outputId": "11891eae-20db-4e03-d6f0-2712b3f8a97a"
      },
      "outputs": [
        {
          "name": "stdout",
          "output_type": "stream",
          "text": [
            "nick\n",
            "nick\n"
          ]
        }
      ],
      "source": [
        "nickname = input()\n",
        "print(\"Twój nick:\", nickname)"
      ]
    },
    {
      "cell_type": "markdown",
      "id": "8e300b2a",
      "metadata": {
        "id": "8e300b2a"
      },
      "source": [
        "Teraz input() coś robi. Ale czy ktoś, kto uruchomi ten program i nie będzie widział kodu źródłowego domyśli się, że chcemy zapytać np. o nick w grze?\\\n",
        "Może być ciężko.\\\n",
        "\\\n",
        "Można to zrobić, wpisując w nawiasy funkcji input() jakiś tekst, na przykład:"
      ]
    },
    {
      "cell_type": "code",
      "execution_count": null,
      "id": "e3a376a2",
      "metadata": {
        "colab": {
          "base_uri": "https://localhost:8080/"
        },
        "id": "e3a376a2",
        "outputId": "5d4214e7-493c-4daf-88dc-aca5d829153b"
      },
      "outputs": [
        {
          "name": "stdout",
          "output_type": "stream",
          "text": [
            "Podaj swój nick w grze: \n",
            "Feniks\n",
            "Twój nick: Feniks\n"
          ]
        }
      ],
      "source": [
        "nickname = input(\"Podaj swój nick w grze: \\n\") # \\n to znak specjalny - robi to samo z tekstem, co klawisz Enter\n",
        "print(\"Twój nick:\", nickname)"
      ]
    },
    {
      "cell_type": "markdown",
      "id": "7940b815",
      "metadata": {
        "id": "7940b815"
      },
      "source": [
        "##### Proponuję, żeby teraz historyjkę z poprzednich przykładów zmodyfikować tak, żeby użytkownik mógł sam wpisać tekst z klawiatury i żeby mógł sam modyfikować historyjkę."
      ]
    },
    {
      "cell_type": "code",
      "execution_count": null,
      "id": "6ebe0301",
      "metadata": {
        "id": "6ebe0301",
        "outputId": "e3052b2a-9cca-4e87-fc36-fff3b2149c77",
        "scrolled": true
      },
      "outputs": [
        {
          "name": "stdout",
          "output_type": "stream",
          "text": [
            "Podaj swoje imię: \n",
            "Bartek\n",
            "Podaj swój klan: \n",
            "Włodarz\n",
            "Podaj krainę, z której pochodzisz: \n",
            "XD\n",
            "Witajcie, cudzoziemcy, jam jest Bartek z klanu Włodarz , pochodzę z krainy zwanej XD .\n"
          ]
        }
      ],
      "source": [
        "imie = input(\"Podaj swoje imię: \\n\")\n",
        "klan = input(\"Podaj swój klan: \\n\")\n",
        "kraina = input(\"Podaj krainę, z której pochodzisz: \\n\")\n",
        "print(\"Witajcie, cudzoziemcy, jam jest\", imie, \"z klanu\", klan,\", pochodzę z krainy zwanej\", kraina, \".\")"
      ]
    },
    {
      "cell_type": "markdown",
      "id": "b44da47e",
      "metadata": {
        "id": "b44da47e"
      },
      "source": [
        "Gratuluję, poznaliśmy dziś funkcje **print()**, **input()** oraz działanie **zmiennych**. \\\n",
        "Na dobry początek to wystarczy, na następny raz porozmawiamy sobie bardziej szczegółowo o zmiennych :)"
      ]
    },
    {
      "attachments": {},
      "cell_type": "markdown",
      "id": "5731a40d",
      "metadata": {},
      "source": [
        "## Podsumowanie:"
      ]
    },
    {
      "attachments": {},
      "cell_type": "markdown",
      "id": "2b206117",
      "metadata": {},
      "source": [
        "### print()\n",
        "To polecenie wypisuje tekst w konsoli."
      ]
    },
    {
      "cell_type": "code",
      "execution_count": null,
      "id": "e7705a52",
      "metadata": {},
      "outputs": [],
      "source": [
        "print(\"Tekst do wyświetlenia\")\n",
        "print(\"Słowo1\", \"Słowo2\", \"Słowo3\")\n",
        "print(\"Tekst, ale bez przejścia do nowej linii\", end = \"\")\n",
        "print(\"Tekst, ale bez separatora\", sep = \"\")\n",
        "print(\"Nietypowe\",  \"separatory\", \"i końcówki:\", sep = \"-|-\", end = \"KOLEJNALINIA\")"
      ]
    },
    {
      "attachments": {},
      "cell_type": "markdown",
      "id": "53432e0f",
      "metadata": {},
      "source": [
        "### Zmienne:\n",
        "Jeśli chcesz przechować jakąś informację w kodzie, przyda Ci się to polecenie"
      ]
    },
    {
      "cell_type": "code",
      "execution_count": null,
      "id": "2ba9ecc9",
      "metadata": {},
      "outputs": [],
      "source": [
        "imie = \"Arek\"\n",
        "nazwisko = \"Mazurek\"\n",
        "wiek = 21\n",
        "\n",
        "print(\"Jestem\", imie)\n",
        "print(\"Moje nazwisko to\", nazwisko)\n",
        "print(\"Emeryturę będę miał za\", 65 - wiek)"
      ]
    },
    {
      "attachments": {},
      "cell_type": "markdown",
      "id": "4da3b160",
      "metadata": {},
      "source": [
        "### input()\n",
        "Jeśli chcesz poprosić użytkownika o wpisanie czegoś do konsoli (np. swojego imienia, to polecenie się przyda). Po prostu piszesz coś, wciskasz enter i kod idzie dalej."
      ]
    },
    {
      "cell_type": "code",
      "execution_count": null,
      "id": "e9feebd1",
      "metadata": {},
      "outputs": [],
      "source": [
        "# Bieda input\n",
        "input()\n",
        "\n",
        "# Zapisanie wyniku inputu do zmiennej\n",
        "zmienna = input()\n",
        "\n",
        "# Zapisanie wyniku do zmiennej, ale najpierw piszemy użytkownikowi, co ma zrobić.\n",
        "imie = input(\"Panie marku, jak ma Pan na imię? \")"
      ]
    },
    {
      "cell_type": "code",
      "execution_count": null,
      "id": "6b77a843",
      "metadata": {},
      "outputs": [],
      "source": []
    }
  ],
  "metadata": {
    "celltoolbar": "Attachments",
    "colab": {
      "collapsed_sections": [],
      "name": "Lekcja 1 - podstawy.ipynb",
      "provenance": []
    },
    "kernelspec": {
      "display_name": "Python 3.8.8 ('base')",
      "language": "python",
      "name": "python3"
    },
    "language_info": {
      "codemirror_mode": {
        "name": "ipython",
        "version": 3
      },
      "file_extension": ".py",
      "mimetype": "text/x-python",
      "name": "python",
      "nbconvert_exporter": "python",
      "pygments_lexer": "ipython3",
      "version": "3.8.8"
    },
    "vscode": {
      "interpreter": {
        "hash": "a0feecd39b474f7cd627fbc232472cc708ada6032ea016b30f1ac9c1204dcaee"
      }
    }
  },
  "nbformat": 4,
  "nbformat_minor": 5
}
