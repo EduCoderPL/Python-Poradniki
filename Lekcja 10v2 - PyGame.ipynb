{
 "cells": [
  {
   "attachments": {},
   "cell_type": "markdown",
   "metadata": {},
   "source": [
    "# PyGame - Jak zacząć?"
   ]
  },
  {
   "attachments": {},
   "cell_type": "markdown",
   "metadata": {},
   "source": [
    "## 1. Aby zacząć programować gry w Pythonie, ogarnij najpierw kilka technicznych rzeczy:\n",
    "1. Upewnij się, że masz poprawnie zainstalowany język programowania Python;\n",
    "2. Upewnij się, że masz wersję Pythona co najwyżej w wersji 3.10, ponieważ wersje 3.11+ po prostu nie działają z biblioteką PyGame;\n",
    "3. Upewnij się, że biblioteka PyGame jest zainstalowana.|\n"
   ]
  },
  {
   "attachments": {},
   "cell_type": "markdown",
   "metadata": {},
   "source": [
    "## 2. Zacznij od szablonowego kodu\n",
    "PyGame można odpalić na kilka sposobów. Można użyć minimalnej liczby linijek, ale wtedy przegapimy ważne aspekty gry tj. kontrola liczby FPS, rysowanie obiektów, zarządzanie obiektami;"
   ]
  },
  {
   "attachments": {},
   "cell_type": "markdown",
   "metadata": {},
   "source": [
    "### 2.1. Kod minimum:\n",
    "Okno się pojawi, ale będzie kompletnie bezużyteczne. Ani nie ma sterowania ani grafiki. Nawet nie można tego okienka zamknąć krzyżykiem. Jeśli tego nie chcesz, to zainteresuj się kolejnymi rzeczami.\n"
   ]
  },
  {
   "cell_type": "code",
   "execution_count": null,
   "metadata": {},
   "outputs": [],
   "source": [
    "# Potrzebne importy\n",
    "import pygame\n",
    "from pygame.locals import *\n",
    "\n",
    "pygame.init()\n",
    "\n",
    "screen = pygame.display.set_mode((1280, 720))\n",
    "while True:\n",
    "    pygame.display.flip()"
   ]
  },
  {
   "attachments": {},
   "cell_type": "markdown",
   "metadata": {},
   "source": [
    "### 2.2. Kod z najważniejszymi funkcjonalnościami - zalecam od tego zacząć.\n",
    "To jest pełnoprawny kod, na którym można zacząć działać"
   ]
  },
  {
   "cell_type": "code",
   "execution_count": null,
   "metadata": {},
   "outputs": [],
   "source": [
    "# Potrzebne importy\n",
    "import pygame\n",
    "from pygame.locals import *\n",
    "\n",
    "#Inicjalizacja wszystkich mechanizmów pythona (po prostu to jest ważne);\n",
    "pygame.init()\n",
    "\n",
    "# Parametry Screena\n",
    "screen = pygame.display.set_mode((1280, 720))\n",
    "\n",
    "# Zegar kontrolujący FPS-y\n",
    "clock = pygame.time.Clock()\n",
    "\n",
    "# Pętla gry\n",
    "running = True\n",
    "while running:\n",
    "\n",
    "  # Te cztery linijki pozwalają nam normalnie zamknąć program.\n",
    "    for event in pygame.event.get():\n",
    "        if event.type == pygame.QUIT:\n",
    "            running = False\n",
    "            break\n",
    "\n",
    "    # Rysowanie grafiki:\n",
    "\n",
    "    # Wypełnienie okienka kolorem\n",
    "    screen.fill((255, 255, 255))\n",
    "\n",
    "    # Rysowanie kształtu\n",
    "    pygame.draw.rect(screen, (255, 255, 0), Rect(100, 100, 50, 50))\n",
    "    pygame.draw.ellipse(screen, (255, 255, 0), Rect(100, 300, 50, 50))\n",
    "    pygame.draw.aaline(screen, (255, 0, 0), (50, 50), (1000, 1000))\n",
    "  \n",
    "    # Czekanie na kolejną klatkę\n",
    "    clock.tick(60)\n",
    "    #Aktualizacja gry\n",
    "    pygame.display.flip()\n",
    "\n",
    "pygame.quit()"
   ]
  },
  {
   "attachments": {},
   "cell_type": "markdown",
   "metadata": {},
   "source": [
    "### 2.3. Kod, w którym główna akcja dzieje się w programie main\n",
    "Kod, w którym dzielimy sobie program na funkcje, z których każda robi coś innego;\n",
    "Można sobie w całkiem łatwy sposób porozdzielać poszczególne części kodu;"
   ]
  },
  {
   "cell_type": "code",
   "execution_count": null,
   "metadata": {},
   "outputs": [],
   "source": [
    "# Potrzebne importy\n",
    "import pygame\n",
    "from pygame.locals import *\n",
    "\n",
    "# Inicjalizacja wszystkich mechanizmów pythona (po prostu to jest ważne);\n",
    "pygame.init()\n",
    "\n",
    "# Parametry Screena\n",
    "screen = pygame.display.set_mode((1280, 720))\n",
    "\n",
    "# Zegar kontrolujący FPS-y\n",
    "clock = pygame.time.Clock()\n",
    "\n",
    "def main():\n",
    "\n",
    "    # Pętla gry\n",
    "    running = True\n",
    "    while running:\n",
    "\n",
    "        # Te cztery linijki pozwalają nam normalnie zamknąć program.\n",
    "        for event in pygame.event.get():\n",
    "            if event.type == pygame.QUIT:\n",
    "                running = False\n",
    "                break\n",
    "\n",
    "        # Rysowanie grafiki:\n",
    "\n",
    "        # Wypełnienie okienka kolorem\n",
    "        screen.fill((255, 255, 255))\n",
    "\n",
    "        # Rysowanie kształtu\n",
    "        pygame.draw.rect(screen, (255, 255, 0), Rect(100, 100, 50, 50))\n",
    "        pygame.draw.ellipse(screen, (255, 255, 0), Rect(100, 300, 50, 50))\n",
    "        pygame.draw.aaline(screen, (255, 0, 0), (50, 50), (1000, 1000))\n",
    "\n",
    "        # Czekanie na kolejną klatkę\n",
    "        clock.tick(60)\n",
    "        # Aktualizacja gry\n",
    "        pygame.display.flip()\n",
    "\n",
    "    pygame.quit()\n",
    "\n",
    "\n",
    "main()"
   ]
  },
  {
   "attachments": {},
   "cell_type": "markdown",
   "metadata": {},
   "source": [
    "### 2.4. Kod, w którym wchodzi OOP (Programowanie obiektowe)\n",
    "Kod, w którym wchodzi programowanie obiektowe. Bardzo przydatne przy większych projektach;\n",
    "\n",
    "Kodu jest dużo, ale przynajmniej wiadomo, co się dzieje w którym miejscu projektu."
   ]
  },
  {
   "cell_type": "code",
   "execution_count": null,
   "metadata": {},
   "outputs": [],
   "source": [
    "# Potrzebne importy\n",
    "import pygame\n",
    "from pygame.locals import *\n",
    "\n",
    "\n",
    "class Game:\n",
    "    def __init__(self, width, height):\n",
    "        # Wielkości ekranu\n",
    "        self.width = width\n",
    "        self.height = height\n",
    "\n",
    "        # Parametry Screena\n",
    "        self.screen = pygame.display.set_mode((self.width, self.height))\n",
    "\n",
    "        # Zegar kontrolujący FPS-y\n",
    "        self.clock = pygame.time.Clock()\n",
    "\n",
    "        # Zmienna kontrolująca pętlę gry (jeśli chcesz przerwać grę, po prsotu zmień w kodzie jej wartość na false).\n",
    "        self.running = True\n",
    "\n",
    "    # Ta funkcja inicjuje grę\n",
    "    def main(self):\n",
    "        self.init_game()\n",
    "        self.game_loop()\n",
    "\n",
    "    # Ta funkcja rozpoczyna grę\n",
    "    def init_game(self):\n",
    "        # Inicjalizacja wszystkich mechanizmów pythona (po prostu to jest ważne);\n",
    "        pygame.init()\n",
    "\n",
    "    # Ta funkcja tworzy pętlę gry\n",
    "    def game_loop(self):\n",
    "        while self.running:\n",
    "            self.check_if_close_game()\n",
    "            self.draw()\n",
    "\n",
    "        pygame.quit()\n",
    "\n",
    "    # Ta funkcja sprawdza, czy czasem nie klikamy w krzyżyk\n",
    "    def check_if_close_game(self):\n",
    "        # Te cztery linijki pozwalają nam normalnie zamknąć program.\n",
    "        for event in pygame.event.get():\n",
    "            if event.type == pygame.QUIT:\n",
    "                self.running = False\n",
    "                break\n",
    "\n",
    "    # Funkcja odpowiedzialna za rysowanie:\n",
    "    def draw(self):\n",
    "        # Wypełnienie okienka kolorem\n",
    "        self.screen.fill((255, 255, 255))\n",
    "\n",
    "        # Rysowanie kształtu\n",
    "        pygame.draw.rect(self.screen, (255, 255, 0), Rect(100, 100, 50, 50))\n",
    "        pygame.draw.ellipse(self.screen, (255, 255, 0), Rect(100, 300, 50, 50))\n",
    "        pygame.draw.aaline(self.screen, (255, 0, 0), (50, 50), (1000, 1000))\n",
    "\n",
    "        # Czekanie na kolejną klatkę\n",
    "        self.clock.tick(60)\n",
    "        # Aktualizacja gry\n",
    "        pygame.display.flip()\n",
    "\n",
    "\n",
    "game = Game(1366, 768)\n",
    "game.main()\n"
   ]
  },
  {
   "attachments": {},
   "cell_type": "markdown",
   "metadata": {},
   "source": [
    "# 3. Jak rozwinąć projekt? Używam jako przykładu pliku 2.2."
   ]
  },
  {
   "attachments": {},
   "cell_type": "markdown",
   "metadata": {},
   "source": [
    "## 3.1. Dodanie sterowania"
   ]
  },
  {
   "attachments": {},
   "cell_type": "markdown",
   "metadata": {},
   "source": [
    "### Dodanie zmiennych gracza (gdzieś na początku kodu):"
   ]
  },
  {
   "cell_type": "code",
   "execution_count": null,
   "metadata": {},
   "outputs": [],
   "source": [
    "x = 100\n",
    "y = 200"
   ]
  },
  {
   "attachments": {},
   "cell_type": "markdown",
   "metadata": {},
   "source": [
    "### W pętli gry trzeba w jakiś sposób te zmienne zmieniać:"
   ]
  },
  {
   "cell_type": "code",
   "execution_count": null,
   "metadata": {},
   "outputs": [],
   "source": [
    "# Ten kod umieść gdzieś w pętli gry, najlepiej przed częścią odpowiedzialną za grafikę:\n",
    "x += 2\n",
    "y += 1"
   ]
  },
  {
   "attachments": {},
   "cell_type": "markdown",
   "metadata": {},
   "source": [
    "### Wybierz jakiś obiekt do rysowania:"
   ]
  },
  {
   "cell_type": "code",
   "execution_count": null,
   "metadata": {},
   "outputs": [],
   "source": [
    "# Ten kod umieść w sekcji grafiki;\n",
    "pygame.draw.rect(screen, (255, 255, 0), Rect(x, y, 50, 50))\n"
   ]
  },
  {
   "cell_type": "code",
   "execution_count": null,
   "metadata": {},
   "outputs": [],
   "source": [
    "# To polecenie interpretuj tak:\n",
    "# pygame.draw.rect(okienkoGry, kolorRGB, prostokątDoRysowania(x, y, szerokość, wysokość))"
   ]
  },
  {
   "attachments": {},
   "cell_type": "markdown",
   "metadata": {},
   "source": [
    "### Efekt końcowy:\n",
    "Kod powinien pokazać okienko, na którym rysuje się gra"
   ]
  },
  {
   "cell_type": "code",
   "execution_count": null,
   "metadata": {},
   "outputs": [],
   "source": [
    "# Potrzebne importy\n",
    "import pygame\n",
    "from pygame.locals import *\n",
    "\n",
    "# Inicjalizacja wszystkich mechanizmów pythona (po prostu to jest ważne);\n",
    "pygame.init()\n",
    "\n",
    "# Parametry Screena\n",
    "screen = pygame.display.set_mode((1280, 720))\n",
    "\n",
    "# Zegar kontrolujący FPS-y\n",
    "clock = pygame.time.Clock()\n",
    "\n",
    "# Zmienne gracza\n",
    "x = 100\n",
    "y = 200\n",
    "\n",
    "\n",
    "\n",
    "\n",
    "# Pętla gry\n",
    "running = True\n",
    "while running:\n",
    "\n",
    "    # Te cztery linijki pozwalają nam normalnie zamknąć program.\n",
    "    for event in pygame.event.get():\n",
    "        if event.type == pygame.QUIT:\n",
    "            running = False\n",
    "            break\n",
    "\n",
    "    # Rysowanie grafiki:\n",
    "\n",
    "    x += 2\n",
    "    y += 1\n",
    "\n",
    "    # Wypełnienie okienka kolorem\n",
    "    screen.fill((255, 255, 255))\n",
    "\n",
    "    # Rysowanie kształtu\n",
    "\n",
    "    pygame.draw.rect(screen, (255, 255, 0), Rect(x, y, 50, 50))\n",
    "\n",
    "    # Czekanie na kolejną klatkę\n",
    "    clock.tick(60)\n",
    "    # Aktualizacja gry\n",
    "    pygame.display.flip()\n",
    "\n",
    "pygame.quit()"
   ]
  },
  {
   "attachments": {},
   "cell_type": "markdown",
   "metadata": {},
   "source": []
  }
 ],
 "metadata": {
  "language_info": {
   "name": "python"
  },
  "orig_nbformat": 4
 },
 "nbformat": 4,
 "nbformat_minor": 2
}
