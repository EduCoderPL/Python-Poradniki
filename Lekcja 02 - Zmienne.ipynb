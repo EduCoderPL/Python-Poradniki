{
  "cells": [
    {
      "cell_type": "markdown",
      "metadata": {
        "id": "MBCvCbG-qNvX"
      },
      "source": [
        "# PODSUMOWANIE POPRZEDNIEGO PORADNIKA:"
      ]
    },
    {
      "cell_type": "code",
      "execution_count": 1,
      "metadata": {
        "id": "UDZUXRk-qNvb",
        "outputId": "0aa96e4b-03e4-4e20-a431-e69c399fb1ad",
        "colab": {
          "base_uri": "https://localhost:8080/"
        }
      },
      "outputs": [
        {
          "output_type": "stream",
          "name": "stdout",
          "text": [
            "POJEDYNCZY TEKST\n",
            "Wyświetlanie wielu napisów jeden po drugim\n",
            "Cześć, Czesław\n"
          ]
        }
      ],
      "source": [
        "# polecenie \"print\"\n",
        "print(\"POJEDYNCZY TEKST\")\n",
        "print(\"Wyświetlanie\", \"wielu\", \"napisów\", \"jeden\", \"po\", \"drugim\")\n",
        "zmienna = \"Czesław\"\n",
        "print(\"Cześć,\", zmienna)"
      ]
    },
    {
      "cell_type": "code",
      "execution_count": null,
      "metadata": {
        "id": "0Ym4JuZSqNvd",
        "outputId": "854aef46-3e30-4db2-b384-8299ba8d60e9"
      },
      "outputs": [
        {
          "name": "stdout",
          "output_type": "stream",
          "text": [
            "Tu jest tekst, jaki ma się wyświetlić przed wpisywaniem czegoś z klawiaturycvnhcg\n",
            "W taki sposób można nadać zmiennej wartość wpisaną w klawiaturzeaa\n",
            "A to wychodzi: \n"
          ]
        }
      ],
      "source": [
        "# polecenie \"input\" - prosi użytkownika o wpisanie czegoś z klawiatury\n",
        "input(\"Tu jest tekst, jaki ma się wyświetlić przed wpisywaniem czegoś z klawiatury: \")\n",
        "\n",
        "zmienna2 = input(\"W taki sposób można nadać zmiennej wartość wpisaną w klawiaturze: \")\n",
        "print(\"A to wychodzi: \", zmienna2)\n"
      ]
    },
    {
      "cell_type": "markdown",
      "metadata": {
        "id": "5kt9Mdo8qNve"
      },
      "source": [
        "# A DZISIAJ: ZMIENNE (głównie liczby i napisy)\n",
        " - działania na zmiennych (+, -, *, \\\\)\n",
        " - jak zdefiniować tekst i co można na nim zrobić?\n"
      ]
    },
    {
      "cell_type": "markdown",
      "source": [
        "## Rodzaje zmiennych:"
      ],
      "metadata": {
        "id": "WceJ8CS-eYsB"
      }
    },
    {
      "cell_type": "markdown",
      "source": [
        "Istnieją 4 podstawowe typy zmiennych w Pythonie:\n",
        "- int (Integer) - Liczba całkowita (np. 3, 7, -4);\n",
        "- float - Liczba zmiennoprzecinkowa (np. 3.5, 7.33333)\n",
        "- str (string) - Tekst\n",
        "- bool (boolean) - zmienna typu prawda - fałsz"
      ],
      "metadata": {
        "id": "kwBp7RsihaKJ"
      }
    },
    {
      "cell_type": "code",
      "execution_count": 5,
      "metadata": {
        "id": "Twpx0ujzqNve",
        "colab": {
          "base_uri": "https://localhost:8080/"
        },
        "outputId": "866d01a2-17a2-4692-ab79-fba050a868a6"
      },
      "outputs": [
        {
          "output_type": "stream",
          "name": "stdout",
          "text": [
            "<class 'int'>\n",
            "<class 'int'>\n",
            "<class 'float'>\n",
            "<class 'float'>\n",
            "<class 'str'>\n",
            "<class 'str'>\n",
            "<class 'bool'>\n",
            "<class 'bool'>\n"
          ]
        }
      ],
      "source": [
        "# Zmienne liczbowe:\n",
        "# # Liczba całkowita (int, integer):\n",
        "liczba_naturalna = 23\n",
        "\n",
        "# # Liczba zmiennoprzecinkowa, czyli taka, co ma coś po przecinku (float);\n",
        "liczba_zmiennoprzecinkowa = 23.5\n",
        "\n",
        "# Zmienne tekstowe (str, string):\n",
        "napis = \"HELLO\"\n",
        "napis2 = 'Hejaaaa'\n",
        "\n",
        "# Zmienne bool, czyli tzw. prawda-fałsz (bool, boolean);\n",
        "czy_prawda = True\n",
        "czy_falsz = False\n",
        "\n",
        "\n",
        "# Za pomocą printa możemy wyświetlać wiel innych rzeczy w Pythonie.\n",
        "# Nie tylko tekst, ale np. wyniki funkcji specjalnych tj. type() )\n",
        "# Funkcja type(wyrażenie) zwraca informacje o type zmiennej lub wyrażenia w nawiasie.\n",
        "print(type(liczba_naturalna))\n",
        "print(type(7))\n",
        "\n",
        "print(type(liczba_zmiennoprzecinkowa))\n",
        "print(type(11.13))\n",
        "\n",
        "print(type(napis))\n",
        "print(type(\"napis\"))\n",
        "\n",
        "\n",
        "print(type(czy_prawda))\n",
        "print(type(True))"
      ]
    },
    {
      "cell_type": "markdown",
      "source": [
        "### Print może też zwracać wyniki działań"
      ],
      "metadata": {
        "id": "9rUQkbVVecu4"
      }
    },
    {
      "cell_type": "code",
      "execution_count": null,
      "metadata": {
        "id": "uQX5-V-pqNvf",
        "outputId": "bc9c9220-25b5-418b-8e07-82c389e857c7"
      },
      "outputs": [
        {
          "name": "stdout",
          "output_type": "stream",
          "text": [
            "23\n",
            "72\n",
            "95\n",
            "1656\n"
          ]
        }
      ],
      "source": [
        "print(23)\n",
        "print(72)\n",
        "print(23 + 72)\n",
        "print(23 * 72)"
      ]
    },
    {
      "cell_type": "markdown",
      "source": [
        "### Można też konwertować typy zmiennych między sobą.\n",
        "\n",
        "float(3) zamienia trójkę całkowitą na zmiennoprzecinkową\n",
        "\n"
      ],
      "metadata": {
        "id": "uIl19wWSirdi"
      }
    },
    {
      "cell_type": "code",
      "source": [
        "print(float(3))\n",
        "\n",
        "print(type(float(3)))"
      ],
      "metadata": {
        "id": "sPMgHe5zjALa",
        "outputId": "80a5ad1a-16f1-4088-d1dc-f722b48f0293",
        "colab": {
          "base_uri": "https://localhost:8080/"
        }
      },
      "execution_count": 7,
      "outputs": [
        {
          "output_type": "stream",
          "name": "stdout",
          "text": [
            "3.0\n",
            "<class 'float'>\n"
          ]
        }
      ]
    },
    {
      "cell_type": "code",
      "source": [
        "print(str(3))\n",
        "\n",
        "print(type(str(\"3\")))"
      ],
      "metadata": {
        "id": "K4qLXMFqjF66",
        "outputId": "db8cf935-a68a-42e2-f973-b89322ed1cbf",
        "colab": {
          "base_uri": "https://localhost:8080/"
        }
      },
      "execution_count": 10,
      "outputs": [
        {
          "output_type": "stream",
          "name": "stdout",
          "text": [
            "3\n",
            "<class 'str'>\n"
          ]
        }
      ]
    },
    {
      "cell_type": "markdown",
      "source": [
        "### Prosty eksperyment:\n",
        "Zrób program, który prosi o dwie liczby i wyświetla wynik ich dodawania. \\\n",
        "Nie zapomnij też przetestowac naszego programu. Po odpaleniu wpisz liczby takie jak 2 oraz 2. Każdy wie, że to cztery, tego nie da się zepsuć ;)"
      ],
      "metadata": {
        "id": "zfxBSoJZ6X6y"
      }
    },
    {
      "cell_type": "code",
      "execution_count": null,
      "metadata": {
        "scrolled": false,
        "id": "LJ8VRrDDqNvf"
      },
      "outputs": [],
      "source": [
        "liczba1 = input(\"Podaj pierwszą liczbę: \\n\")\n",
        "liczba2 = input(\"Podaj drugą liczbę: \\n\")\n",
        "print(liczba1 + liczba2)"
      ]
    },
    {
      "cell_type": "markdown",
      "source": [
        "Niech zgadnę. 2 + 2 = 22? Dziwna ta matma, co? Ale spokojnie.\n",
        "\n",
        "Problem polega na tym, że polecenie input() zwraca zawsze tzw. string (tzw. zmienną typu tekstowego). A dodawanie dwóch tekstów to łączenie ich w całość. Zamiast liczb wpisz coś innego, to zrozumiesz :)"
      ],
      "metadata": {
        "id": "jzqVnfiS6djR"
      }
    },
    {
      "cell_type": "markdown",
      "source": [
        "### Jak to poprawić?\n",
        "Jeśli wpiszesz cały input w nawias takiej funkcji: \n",
        "\\\n",
        "**int(...)**, to Python zamieni zawartość nawiasu na liczbę całkowitą.\n",
        "Można też tak zamieniać na inne typy zmiennych innego typu zmiennej:\n",
        "**float(...)** lub, **str(...)**. Takich zmiantypów zmiennych jest sporo, ale to w przyszłości poznamy ;)"
      ],
      "metadata": {
        "id": "ByjQHfEg61cn"
      }
    },
    {
      "cell_type": "code",
      "execution_count": null,
      "metadata": {
        "id": "DxpojY0sqNvg"
      },
      "outputs": [],
      "source": [
        "liczba1 = int(input(\"Podaj pierwszą liczbę: \\n\"))\n",
        "liczba2 = int(input(\"Podaj drugą liczbę: \\n\"))\n",
        "print(liczba1 + liczba2)"
      ]
    },
    {
      "cell_type": "code",
      "execution_count": null,
      "metadata": {
        "id": "Cmf8LrWMqNvh"
      },
      "outputs": [],
      "source": [
        "str(23)\n",
        "int(\"38\")"
      ]
    },
    {
      "cell_type": "code",
      "execution_count": null,
      "metadata": {
        "id": "PgHd-9nxqNvi",
        "outputId": "87cff2c9-c28e-4855-f9c6-a76ea5811f30",
        "colab": {
          "base_uri": "https://localhost:8080/",
          "height": 304
        }
      },
      "outputs": [
        {
          "name": "stdout",
          "output_type": "stream",
          "text": [
            "Podaj pierwszą liczbę: \n",
            "10\n",
            "Podaj drugą liczbę: \n",
            "2.5\n"
          ]
        },
        {
          "output_type": "error",
          "ename": "ValueError",
          "evalue": "ignored",
          "traceback": [
            "\u001b[0;31m---------------------------------------------------------------------------\u001b[0m",
            "\u001b[0;31mValueError\u001b[0m                                Traceback (most recent call last)",
            "\u001b[0;32m<ipython-input-3-e6eca3c1252e>\u001b[0m in \u001b[0;36m<module>\u001b[0;34m()\u001b[0m\n\u001b[1;32m      1\u001b[0m \u001b[0mliczba1\u001b[0m \u001b[0;34m=\u001b[0m \u001b[0mint\u001b[0m\u001b[0;34m(\u001b[0m\u001b[0minput\u001b[0m\u001b[0;34m(\u001b[0m\u001b[0;34m\"Podaj pierwszą liczbę: \\n\"\u001b[0m\u001b[0;34m)\u001b[0m\u001b[0;34m)\u001b[0m\u001b[0;34m\u001b[0m\u001b[0;34m\u001b[0m\u001b[0m\n\u001b[0;32m----> 2\u001b[0;31m \u001b[0mliczba2\u001b[0m \u001b[0;34m=\u001b[0m \u001b[0mint\u001b[0m\u001b[0;34m(\u001b[0m\u001b[0minput\u001b[0m\u001b[0;34m(\u001b[0m\u001b[0;34m\"Podaj drugą liczbę: \\n\"\u001b[0m\u001b[0;34m)\u001b[0m\u001b[0;34m)\u001b[0m\u001b[0;34m\u001b[0m\u001b[0;34m\u001b[0m\u001b[0m\n\u001b[0m\u001b[1;32m      3\u001b[0m \u001b[0mprint\u001b[0m\u001b[0;34m(\u001b[0m\u001b[0;34m\"Dodawanie: \"\u001b[0m\u001b[0;34m,\u001b[0m\u001b[0mliczba1\u001b[0m\u001b[0;34m,\u001b[0m \u001b[0;34m\"+\"\u001b[0m\u001b[0;34m,\u001b[0m \u001b[0mliczba2\u001b[0m\u001b[0;34m,\u001b[0m \u001b[0;34m\"=\"\u001b[0m\u001b[0;34m,\u001b[0m\u001b[0mliczba1\u001b[0m \u001b[0;34m+\u001b[0m \u001b[0mliczba2\u001b[0m\u001b[0;34m)\u001b[0m\u001b[0;34m\u001b[0m\u001b[0;34m\u001b[0m\u001b[0m\n\u001b[1;32m      4\u001b[0m \u001b[0mprint\u001b[0m\u001b[0;34m(\u001b[0m\u001b[0;34m\"Odejmowanie: \"\u001b[0m\u001b[0;34m,\u001b[0m\u001b[0mliczba1\u001b[0m \u001b[0;34m-\u001b[0m \u001b[0mliczba2\u001b[0m\u001b[0;34m)\u001b[0m\u001b[0;34m\u001b[0m\u001b[0;34m\u001b[0m\u001b[0m\n\u001b[1;32m      5\u001b[0m \u001b[0mprint\u001b[0m\u001b[0;34m(\u001b[0m\u001b[0;34m\"Mnożenie: \"\u001b[0m\u001b[0;34m,\u001b[0m\u001b[0mliczba1\u001b[0m \u001b[0;34m*\u001b[0m \u001b[0mliczba2\u001b[0m\u001b[0;34m)\u001b[0m\u001b[0;34m\u001b[0m\u001b[0;34m\u001b[0m\u001b[0m\n",
            "\u001b[0;31mValueError\u001b[0m: invalid literal for int() with base 10: '2.5'"
          ]
        }
      ],
      "source": [
        "liczba1 = int(input(\"Podaj pierwszą liczbę: \\n\"))\n",
        "liczba2 = int(input(\"Podaj drugą liczbę: \\n\"))\n",
        "print(\"Dodawanie: \",liczba1, \"+\", liczba2, \"=\",liczba1 + liczba2)\n",
        "print(\"Odejmowanie: \",liczba1 - liczba2)\n",
        "print(\"Mnożenie: \",liczba1 * liczba2)\n",
        "print(\"Dzielenie: \",liczba1 / liczba2)"
      ]
    },
    {
      "cell_type": "markdown",
      "source": [
        "Zwróć uwagę, że przy dzieleniu przez liczbę niecałkowitą program wywali błąd. Dlaczego? Ponieważ nie da się 2.5 zamienić na liczbe całkowitą ot tak.\\\n",
        "Aby to poprawić, należy użyć nie int(), tylko float()."
      ],
      "metadata": {
        "id": "emY0Sd6fakFd"
      }
    },
    {
      "cell_type": "code",
      "execution_count": null,
      "metadata": {
        "id": "8_0PoevNqNvj",
        "outputId": "17d17dba-ddff-46f0-87f6-1387e4699f0c"
      },
      "outputs": [
        {
          "name": "stdout",
          "output_type": "stream",
          "text": [
            "Podaj pierwszą liczbę: \n",
            "2.5\n",
            "Podaj drugą liczbę: \n",
            "6.5\n",
            "Dodawanie: 2.5 + 6.5 = 9.0\n",
            "Odejmowanie:  -4.0\n",
            "Mnożenie:  16.25\n",
            "Dzielenie:  0.38461538461538464\n"
          ]
        }
      ],
      "source": [
        "liczba1 = float(input(\"Podaj pierwszą liczbę: \\n\"))\n",
        "liczba2 = float(input(\"Podaj drugą liczbę: \\n\"))\n",
        "print(\"Dodawanie:\",liczba1, \"+\", liczba2, \"=\",liczba1 + liczba2)\n",
        "print(\"Odejmowanie: \",liczba1 - liczba2)\n",
        "print(\"Mnożenie: \",liczba1 * liczba2)\n",
        "print(\"Dzielenie: \",liczba1 / liczba2)"
      ]
    },
    {
      "cell_type": "markdown",
      "source": [
        "## Działania na liczbach:\n",
        "Pisanie działań wygląda bardzo podobnie, jak w matematyce. \\\n",
        "można też liczby zapisać do zmiennych i operować na nich."
      ],
      "metadata": {
        "id": "KujWCJ4GefXh"
      }
    },
    {
      "cell_type": "code",
      "execution_count": null,
      "metadata": {
        "id": "aryeD52OqNvj",
        "outputId": "346ac1d4-fd5d-428d-cc3b-97038f13fdc0"
      },
      "outputs": [
        {
          "name": "stdout",
          "output_type": "stream",
          "text": [
            "19\n"
          ]
        }
      ],
      "source": [
        "a = 12\n",
        "b = 7\n",
        "c = a + b\n",
        "print(c)"
      ]
    },
    {
      "cell_type": "code",
      "source": [
        "liczba1 = 13\n",
        "liczba2 = 10\n",
        "print(liczba1 + 3)"
      ],
      "metadata": {
        "colab": {
          "base_uri": "https://localhost:8080/"
        },
        "id": "OtMcI0d8euWh",
        "outputId": "65ea26f1-f3cb-486a-a1c9-c0a26fc19885"
      },
      "execution_count": null,
      "outputs": [
        {
          "output_type": "stream",
          "name": "stdout",
          "text": [
            "16\n"
          ]
        }
      ]
    },
    {
      "cell_type": "markdown",
      "source": [
        "Jest też zachowana kolejnośc działań. Jeśli chcesz zmienić jej kolejność, musisz użyć nawiasów. \\\n",
        "Że co, że myślałeś, że matma będzie bezużyteczna? NO TO SIĘ JESZCZE ZDZIWIIIISZ xD"
      ],
      "metadata": {
        "id": "EiNbusFseyJA"
      }
    },
    {
      "cell_type": "code",
      "source": [
        "print(5 + 5 * 5)\n",
        "print((5 + 5) * 5)"
      ],
      "metadata": {
        "colab": {
          "base_uri": "https://localhost:8080/"
        },
        "id": "BC9mr7QTfHEY",
        "outputId": "53c60539-bd3a-4970-b0b4-5d488e1ea4b4"
      },
      "execution_count": null,
      "outputs": [
        {
          "output_type": "stream",
          "name": "stdout",
          "text": [
            "30\n",
            "50\n"
          ]
        }
      ]
    },
    {
      "cell_type": "markdown",
      "source": [
        "Lista podstawowych działań na liczbach:"
      ],
      "metadata": {
        "id": "iFdX0mIIfMjo"
      }
    },
    {
      "cell_type": "code",
      "source": [
        "print(2 + 5) # Dodawanie\n",
        "print(2 - 5) # Odejmowanie\n",
        "print(2 * 5) # Mnożenie\n",
        "print(22 / 5) # Dzielenie\n",
        "print(22 // 5) # Dzielenie, ale całkowite, tzn. bez reszty\n",
        "print(2 ** 5) # Potęgowanie, tzn. robimy 2 * 2 * 2 * 2 * 2 (NIE MYLIĆ Z MNOŻENIEM!!!)\n",
        "\n",
        "# Zagadka: jak zrobić pierwiastkowanie z pomocą tego, co poznaliśmy powyżej? \n",
        "# Podpowiedź: dowiedz się z matematyki, jak inaczej można zapisać np. pierwiastek z trzech za pomocą potęgowania"
      ],
      "metadata": {
        "colab": {
          "base_uri": "https://localhost:8080/"
        },
        "id": "h4MNDtXVfP74",
        "outputId": "94dea5aa-d033-49b9-b389-9e42c7e6bb47"
      },
      "execution_count": null,
      "outputs": [
        {
          "output_type": "stream",
          "name": "stdout",
          "text": [
            "7\n",
            "-3\n",
            "10\n",
            "4.4\n",
            "4\n",
            "32\n"
          ]
        }
      ]
    },
    {
      "cell_type": "markdown",
      "source": [
        "Można też na liczba robić bardziej złożone rzeczy, np. zaokrąglanie w górę, w dół, pierwiastkowanie, etc..."
      ],
      "metadata": {
        "id": "OH4SFaZXfsN3"
      }
    },
    {
      "cell_type": "code",
      "source": [
        "import math # Dajesz znać Pythonowi, że będziesz używał funkcji matematycznych. Bardzo ważna linijka\n",
        "# Zaokrąglanie w górę i w dół\n",
        "print(math.floor(2.3))\n",
        "print(math.ceil(2.3))\n",
        "print(math.pi) # Przybliżona wartość pi\n",
        "print(math.pow(2, 5)) # Potęgowanie\n",
        "\n",
        "print(math.sin(math.pi/2)) # funkcja sinus z liczby pi/2 (cokolwiek oznacza sinus :D)"
      ],
      "metadata": {
        "colab": {
          "base_uri": "https://localhost:8080/"
        },
        "id": "u9-jdByCgDNg",
        "outputId": "2134cbd2-259f-48b5-92c6-05456b08655a"
      },
      "execution_count": null,
      "outputs": [
        {
          "output_type": "stream",
          "name": "stdout",
          "text": [
            "2\n",
            "3\n",
            "3.141592653589793\n",
            "32.0\n",
            "1.0\n"
          ]
        }
      ]
    },
    {
      "cell_type": "markdown",
      "source": [
        "## Zmienne tekstowe:"
      ],
      "metadata": {
        "id": "Bzd-Ye2Td56i"
      }
    },
    {
      "cell_type": "code",
      "execution_count": null,
      "metadata": {
        "id": "coWKAUGbqNvj",
        "outputId": "2709e0b1-6d2d-4cb1-f121-4bd5db5143aa",
        "colab": {
          "base_uri": "https://localhost:8080/"
        }
      },
      "outputs": [
        {
          "output_type": "stream",
          "name": "stdout",
          "text": [
            "Nazwałem swoj komputer \"HAL 9000\".\n"
          ]
        }
      ],
      "source": [
        "napis1 = \"napis\"\n",
        "napis2 = 'napis, ale inny'\n",
        "napis3 = napis1 + napis2\n",
        "print(napis3)\n",
        "# A tu wyjaśnienie, dlaczego używanie różnych cudzysłowiów nam pomaga. Można wpisać bez problemu cudzysłów w tekście.\n",
        "print('Nazwałem swoj komputer \"HAL 9000\".')"
      ]
    },
    {
      "cell_type": "markdown",
      "source": [
        "Działania na napisach:"
      ],
      "metadata": {
        "id": "mqMD1OUyhF6u"
      }
    },
    {
      "cell_type": "code",
      "execution_count": null,
      "metadata": {
        "id": "5119hnE9qNvk",
        "outputId": "234f0b2b-6c2b-404f-fc8a-04fecb0c5daa",
        "colab": {
          "base_uri": "https://localhost:8080/"
        }
      },
      "outputs": [
        {
          "output_type": "stream",
          "name": "stdout",
          "text": [
            "Alamakota\n"
          ]
        }
      ],
      "source": [
        "# Dodawanie napisów - łączy je w jedną całość.\n",
        "print(\"Ala\"+\"ma\"+\"kota\")"
      ]
    },
    {
      "cell_type": "code",
      "source": [
        "# Mnożenie napisów - zwielokrotnia jeden napis\n",
        "print(\"Spam \" * 10)"
      ],
      "metadata": {
        "colab": {
          "base_uri": "https://localhost:8080/"
        },
        "id": "a12Ng0Z4hFj_",
        "outputId": "2f40a3ed-6b32-4820-9314-80128e6894fe"
      },
      "execution_count": null,
      "outputs": [
        {
          "output_type": "stream",
          "name": "stdout",
          "text": [
            "Spam Spam Spam Spam Spam Spam Spam Spam Spam Spam \n"
          ]
        }
      ]
    },
    {
      "cell_type": "markdown",
      "source": [
        "### NOTACJA f\"\"\n",
        "Można w fajny sposób wrzucać zmienne i wyrażenia wewnątrz tekstu.\n",
        "Wystarczy przed cudzysłowiem wstawić literkę f. Wtedy wewnątrz tekstu możemy za pomocą nawiasów klamrowych {} wrzucać wyrażenia w tekst.\n",
        "\n",
        "\n",
        "Dzięki temu zapis napisu jest zdecydowanie bardziej przejrzysty."
      ],
      "metadata": {
        "id": "bgBl9ZnIjiQw"
      }
    },
    {
      "cell_type": "code",
      "source": [
        "imie = \"Stefan\"\n",
        "miasto = \"Kraków\"\n",
        "print(\"Cześć, jestem\" + imie + \"i jestem z miasta: \" + miasto)\n",
        "print(f\"Cześć, jestem {imie} i jestem z miasta: {miasto}.\")"
      ],
      "metadata": {
        "id": "tuQ0DdaCjp8_"
      },
      "execution_count": null,
      "outputs": []
    },
    {
      "cell_type": "markdown",
      "source": [
        "A potrójny cudzysłów nam się przyda, jeśli chcemy wpisać tekst zapisany w wielu liniach, np. opis bigosu z lektury \"Pan Tadeusz\"."
      ],
      "metadata": {
        "id": "pSeiWIFahTpP"
      }
    },
    {
      "cell_type": "code",
      "execution_count": null,
      "metadata": {
        "id": "6FuabmdAqNvk",
        "colab": {
          "base_uri": "https://localhost:8080/"
        },
        "outputId": "c428274c-cdc9-4c0e-f767-613ac06ecc79"
      },
      "outputs": [
        {
          "output_type": "stream",
          "name": "stdout",
          "text": [
            "W kociołkach bigos grzano; w słowach wydać trudno\n",
            "Bigosu smak przedziwny, kolor i woń cudną;\n",
            "Słów tylko brzęk usłyszy i rymów porządek,\n",
            "Ale treści ich miejski nie pojmie żołądek.\n",
            "Aby cenić litewskie pieśni i potrawy,\n",
            "Trzeba mieć zdrowie, na wsi żyć, wracać z obławy.\n",
            "\n",
            "Przecież i bez tych przypraw potrawą nie lada\n",
            "Jest bigos, bo się z jarzyn dobrych sztucznie składa.\n",
            "Bierze się doń siekana, kwaszona kapusta,\n",
            "Która, wedle przysłowia, sama idzie w usta;\n",
            "Zamknięta w kotle, łonem wilgotnym okrywa\n",
            "Wyszukanego cząstki najlepsze mięsiwa;\n",
            "I praży się, aż ogień wszystkie z niej wyciśnie\n",
            "Soki żywne, aż z brzegów naczynia war pryśnie\n",
            "I powietrze dokoła zionie aromatem.\n",
            "\n",
            "Bigos już gotów. Strzelcy z trzykrotnym wiwatem,\n",
            "Zbrojni łyżkami, biegą i bodą naczynie,\n",
            "Miedź grzmi, dym bucha, bigos jak kamfora ginie,\n",
            "Zniknął, uleciał; tylko w czeluściach saganów\n",
            "Wre para, jak w kraterze zagasłych wulkanów.\n"
          ]
        }
      ],
      "source": [
        "bigos = '''W kociołkach bigos grzano; w słowach wydać trudno\n",
        "Bigosu smak przedziwny, kolor i woń cudną;\n",
        "Słów tylko brzęk usłyszy i rymów porządek,\n",
        "Ale treści ich miejski nie pojmie żołądek.\n",
        "Aby cenić litewskie pieśni i potrawy,\n",
        "Trzeba mieć zdrowie, na wsi żyć, wracać z obławy.\n",
        "\n",
        "Przecież i bez tych przypraw potrawą nie lada\n",
        "Jest bigos, bo się z jarzyn dobrych sztucznie składa.\n",
        "Bierze się doń siekana, kwaszona kapusta,\n",
        "Która, wedle przysłowia, sama idzie w usta;\n",
        "Zamknięta w kotle, łonem wilgotnym okrywa\n",
        "Wyszukanego cząstki najlepsze mięsiwa;\n",
        "I praży się, aż ogień wszystkie z niej wyciśnie\n",
        "Soki żywne, aż z brzegów naczynia war pryśnie\n",
        "I powietrze dokoła zionie aromatem.\n",
        "\n",
        "Bigos już gotów. Strzelcy z trzykrotnym wiwatem,\n",
        "Zbrojni łyżkami, biegą i bodą naczynie,\n",
        "Miedź grzmi, dym bucha, bigos jak kamfora ginie,\n",
        "Zniknął, uleciał; tylko w czeluściach saganów\n",
        "Wre para, jak w kraterze zagasłych wulkanów.'''\n",
        "\n",
        "print(bigos)"
      ]
    },
    {
      "cell_type": "markdown",
      "source": [
        "Bonus: jak zmierzyć długośc tekstu?"
      ],
      "metadata": {
        "id": "sF4wAUPPhfw-"
      }
    },
    {
      "cell_type": "code",
      "execution_count": null,
      "metadata": {
        "id": "z9DgWg3xqNvl",
        "outputId": "b46b44be-9070-434d-a7d8-859980ddfbe2"
      },
      "outputs": [
        {
          "data": {
            "text/plain": [
              "894"
            ]
          },
          "execution_count": 28,
          "metadata": {},
          "output_type": "execute_result"
        }
      ],
      "source": [
        "len(bigos)"
      ]
    },
    {
      "cell_type": "markdown",
      "source": [
        "Przydatne funkcje na tekście:"
      ],
      "metadata": {
        "id": "hefFO-_Ohixf"
      }
    },
    {
      "cell_type": "code",
      "source": [
        "# Zmiana wszystkich liter na małe lub duże:\n",
        "tekst = \"AlA Ma KoTaaaAaaaAaAAA\"\n",
        "print(tekst)\n",
        "print(tekst.lower())\n",
        "print(tekst.upper())\n",
        "print() # Protip, jeśli chcesz umieścić przejście do nowej lini w tekście.\n",
        "\n",
        "# Sprawdzanie, czy tekst zaczyna się w konkretny sposób.\n",
        "print(\"Sprawdzanie początku tekstu:\")\n",
        "print(tekst.startswith(\"AlA\"))\n",
        "print(tekst.startswith(\"Ala\"))\n",
        "print()\n",
        "\n",
        "# Sprawdzanie, czy tekst kończy się w konkretny sposób.\n",
        "print(\"Sprawdzanie końca tekstu:\")\n",
        "print(tekst.endswith(\"AaAAA\"))\n",
        "print(tekst.endswith(\"aaaaa\"))"
      ],
      "metadata": {
        "colab": {
          "base_uri": "https://localhost:8080/"
        },
        "id": "QWAEDDUQhkOB",
        "outputId": "2533be6c-3393-461b-c243-b8ac960a9b58"
      },
      "execution_count": null,
      "outputs": [
        {
          "output_type": "stream",
          "name": "stdout",
          "text": [
            "AlA Ma KoTaaaAaaaAaAAA\n",
            "ala ma kotaaaaaaaaaaaa\n",
            "ALA MA KOTAAAAAAAAAAAA\n",
            "\n",
            "Sprawdzanie początku tekstu:\n",
            "True\n",
            "False\n",
            "\n",
            "Sprawdzanie końca tekstu:\n",
            "True\n",
            "False\n"
          ]
        }
      ]
    },
    {
      "cell_type": "code",
      "source": [
        ""
      ],
      "metadata": {
        "id": "AacVvNRHhpU5"
      },
      "execution_count": null,
      "outputs": []
    }
  ],
  "metadata": {
    "kernelspec": {
      "display_name": "Python 3",
      "language": "python",
      "name": "python3"
    },
    "language_info": {
      "codemirror_mode": {
        "name": "ipython",
        "version": 3
      },
      "file_extension": ".py",
      "mimetype": "text/x-python",
      "name": "python",
      "nbconvert_exporter": "python",
      "pygments_lexer": "ipython3",
      "version": "3.7.4"
    },
    "colab": {
      "name": "Lekcja 2 - Zmienne.ipynb",
      "provenance": []
    }
  },
  "nbformat": 4,
  "nbformat_minor": 0
}